{
 "cells": [
  {
   "cell_type": "markdown",
   "metadata": {},
   "source": [
    "# Cleaning US Census Data\n",
    "\n",
    "You just got hired as a Data Analyst at the Census Bureau, which collects census data and creates interesting visualizations and insights from it.\n",
    "\n",
    "The person who had your job before you left you all the data they had for the most recent census. It is in multiple csv files. They didn’t use pandas, they would just look through these csv files manually whenever they wanted to find something. Sometimes they would copy and paste certain numbers into Excel to make charts.\n",
    "\n",
    "The thought of it makes you shiver. This is not scalable or repeatable.\n",
    "\n",
    "Your boss wants you to make some scatterplots and histograms by the end of the day. Can you get this data into pandas and into reasonable shape so that you can make these histograms?"
   ]
  },
  {
   "cell_type": "markdown",
   "metadata": {},
   "source": [
    "## Step 1. Inspect the Data\n",
    "\n",
    "The data for the most recent census is collected in ten csv files named states0-states9.\\\n",
    "Using glob, loop through the census files available and load them into DataFrames. Then, concatenate all of those DataFrames together into one DataFrame."
   ]
  },
  {
   "cell_type": "code",
   "execution_count": 51,
   "metadata": {},
   "outputs": [
    {
     "name": "stdout",
     "output_type": "stream",
     "text": [
      "Index(['Unnamed: 0', 'State', 'TotalPop', 'Hispanic', 'White', 'Black',\n",
      "       'Native', 'Asian', 'Pacific', 'Income', 'GenderPop'],\n",
      "      dtype='object')\n",
      "Unnamed: 0     int64\n",
      "State         object\n",
      "TotalPop       int64\n",
      "Hispanic      object\n",
      "White         object\n",
      "Black         object\n",
      "Native        object\n",
      "Asian         object\n",
      "Pacific       object\n",
      "Income        object\n",
      "GenderPop     object\n",
      "dtype: object\n",
      "   Unnamed: 0           State  TotalPop             Hispanic  \\\n",
      "0           0    Rhode Island   1053661  13.356666666666678%   \n",
      "1           1  South Carolina   4777576   5.056684981684991%   \n",
      "2           2    South Dakota    843190  3.2396396396396376%   \n",
      "3           3       Tennessee   6499615   4.720026972353339%   \n",
      "4           4           Texas  26538614   38.04673809068304%   \n",
      "\n",
      "                 White                Black                Native  \\\n",
      "0   74.32541666666665%    5.68291666666667%   0.3462500000000001%   \n",
      "1  62.888736263736185%   28.75091575091577%   0.2923992673992673%   \n",
      "2   82.50090090090092%  1.4238738738738752%    9.417567567567566%   \n",
      "3   73.49008766014822%  18.283816587997297%  0.22663519892110592%   \n",
      "4  44.687908934379145%   11.65004782858236%  0.26114405969007126%   \n",
      "\n",
      "                 Asian                Pacific               Income  \\\n",
      "0  3.2474999999999983%  0.035833333333333335%  $59125.270833333336   \n",
      "1   1.249175824175822%  0.046978021978021964%  $46296.807763401106   \n",
      "2  1.0193693693693688%   0.04189189189189189%   $51805.40540540541   \n",
      "3  1.4072825354012126%   0.04315576534052599%  $47328.083616587355   \n",
      "4  3.6696958102161825%   0.06881576430074614%  $55874.522600500095   \n",
      "\n",
      "             GenderPop  \n",
      "0      510388M_543273F  \n",
      "1    2322409M_2455167F  \n",
      "2      423477M_419713F  \n",
      "3    3167756M_3331859F  \n",
      "4  13171316M_13367298F  \n"
     ]
    }
   ],
   "source": [
    "# Import necessary libraries\n",
    "import pandas as pd\n",
    "import numpy as np\n",
    "from matplotlib import pyplot as plt\n",
    "import glob\n",
    "import re\n",
    "\n",
    "# Load data to a DataFrame\n",
    "files = glob.glob('states*.csv')\n",
    "df_list = []\n",
    "for file in files:\n",
    "    data = pd.read_csv(file)\n",
    "    df_list.append(data)\n",
    "    \n",
    "us_census = pd.concat(df_list)\n",
    "\n",
    "# Inspect data\n",
    "print(us_census.columns)\n",
    "print(us_census.dtypes)\n",
    "print(us_census.head())"
   ]
  },
  {
   "cell_type": "markdown",
   "metadata": {},
   "source": [
    "## Step 2. Convert data into suitable for manipulation type\n",
    "\n",
    "Use regex to turn the Income column into a format that is ready for conversion into a numerical type."
   ]
  },
  {
   "cell_type": "code",
   "execution_count": 52,
   "metadata": {},
   "outputs": [
    {
     "name": "stdout",
     "output_type": "stream",
     "text": [
      "   Unnamed: 0           State  TotalPop             Hispanic  \\\n",
      "0           0    Rhode Island   1053661  13.356666666666678%   \n",
      "1           1  South Carolina   4777576   5.056684981684991%   \n",
      "2           2    South Dakota    843190  3.2396396396396376%   \n",
      "3           3       Tennessee   6499615   4.720026972353339%   \n",
      "4           4           Texas  26538614   38.04673809068304%   \n",
      "\n",
      "                 White                Black                Native  \\\n",
      "0   74.32541666666665%    5.68291666666667%   0.3462500000000001%   \n",
      "1  62.888736263736185%   28.75091575091577%   0.2923992673992673%   \n",
      "2   82.50090090090092%  1.4238738738738752%    9.417567567567566%   \n",
      "3   73.49008766014822%  18.283816587997297%  0.22663519892110592%   \n",
      "4  44.687908934379145%   11.65004782858236%  0.26114405969007126%   \n",
      "\n",
      "                 Asian                Pacific        Income  \\\n",
      "0  3.2474999999999983%  0.035833333333333335%  59125.270833   \n",
      "1   1.249175824175822%  0.046978021978021964%  46296.807763   \n",
      "2  1.0193693693693688%   0.04189189189189189%  51805.405405   \n",
      "3  1.4072825354012126%   0.04315576534052599%  47328.083617   \n",
      "4  3.6696958102161825%   0.06881576430074614%  55874.522601   \n",
      "\n",
      "             GenderPop  \n",
      "0      510388M_543273F  \n",
      "1    2322409M_2455167F  \n",
      "2      423477M_419713F  \n",
      "3    3167756M_3331859F  \n",
      "4  13171316M_13367298F  \n"
     ]
    }
   ],
   "source": [
    "us_census['Income'] = us_census['Income'].replace('[\\$]', '', regex=True)\n",
    "us_census['Income'] = pd.to_numeric(us_census['Income'])\n",
    "print(us_census.head())"
   ]
  },
  {
   "cell_type": "markdown",
   "metadata": {},
   "source": [
    "Look at the PopulationGender column. We are going to want to separate this into two columns, the Men column, and the Women column.\n",
    "\n",
    "Split the column into those two new columns using str.split and separating out those results."
   ]
  },
  {
   "cell_type": "code",
   "execution_count": 53,
   "metadata": {},
   "outputs": [],
   "source": [
    "gender_split = us_census['GenderPop'].str.split('_')"
   ]
  },
  {
   "cell_type": "markdown",
   "metadata": {},
   "source": [
    "Convert both of the columns into numerical datatypes.\n",
    "\n",
    "There is still an M or an F character in each entry! We should remove those before we convert."
   ]
  },
  {
   "cell_type": "code",
   "execution_count": 54,
   "metadata": {},
   "outputs": [
    {
     "name": "stdout",
     "output_type": "stream",
     "text": [
      "   Unnamed: 0           State  TotalPop             Hispanic  \\\n",
      "0           0    Rhode Island   1053661  13.356666666666678%   \n",
      "1           1  South Carolina   4777576   5.056684981684991%   \n",
      "2           2    South Dakota    843190  3.2396396396396376%   \n",
      "3           3       Tennessee   6499615   4.720026972353339%   \n",
      "4           4           Texas  26538614   38.04673809068304%   \n",
      "\n",
      "                 White                Black                Native  \\\n",
      "0   74.32541666666665%    5.68291666666667%   0.3462500000000001%   \n",
      "1  62.888736263736185%   28.75091575091577%   0.2923992673992673%   \n",
      "2   82.50090090090092%  1.4238738738738752%    9.417567567567566%   \n",
      "3   73.49008766014822%  18.283816587997297%  0.22663519892110592%   \n",
      "4  44.687908934379145%   11.65004782858236%  0.26114405969007126%   \n",
      "\n",
      "                 Asian                Pacific        Income  \\\n",
      "0  3.2474999999999983%  0.035833333333333335%  59125.270833   \n",
      "1   1.249175824175822%  0.046978021978021964%  46296.807763   \n",
      "2  1.0193693693693688%   0.04189189189189189%  51805.405405   \n",
      "3  1.4072825354012126%   0.04315576534052599%  47328.083617   \n",
      "4  3.6696958102161825%   0.06881576430074614%  55874.522601   \n",
      "\n",
      "             GenderPop       Men       Women  \n",
      "0      510388M_543273F    510388    543273.0  \n",
      "1    2322409M_2455167F   2322409   2455167.0  \n",
      "2      423477M_419713F    423477    419713.0  \n",
      "3    3167756M_3331859F   3167756   3331859.0  \n",
      "4  13171316M_13367298F  13171316  13367298.0  \n"
     ]
    }
   ],
   "source": [
    "us_census['Men'] = gender_split.str.get(0)\n",
    "us_census['Women'] = gender_split.str.get(1)\n",
    "\n",
    "men_split = us_census['Men'].replace('M', '', regex=True)\n",
    "women_split = us_census['Women'].replace('F', '', regex=True)\n",
    "\n",
    "us_census['Men'] = pd.to_numeric(men_split)\n",
    "us_census['Women'] = pd.to_numeric(women_split)\n",
    "print(us_census.head())"
   ]
  },
  {
   "cell_type": "markdown",
   "metadata": {},
   "source": [
    "## Step 3. Vizualize gender data\n",
    "\n",
    "Now we have the columns we need to make our first visualization.\\\n",
    "Use matplotlib to make a scatterplot, but first check data for nan values and duplicates."
   ]
  },
  {
   "cell_type": "code",
   "execution_count": 55,
   "metadata": {},
   "outputs": [
    {
     "name": "stdout",
     "output_type": "stream",
     "text": [
      "0    False\n",
      "1    False\n",
      "2    False\n",
      "3    False\n",
      "4    False\n",
      "5    False\n",
      "0    False\n",
      "1    False\n",
      "2    False\n",
      "3    False\n",
      "4    False\n",
      "5    False\n",
      "0    False\n",
      "1    False\n",
      "2    False\n",
      "3    False\n",
      "4    False\n",
      "5    False\n",
      "0    False\n",
      "1    False\n",
      "2    False\n",
      "3    False\n",
      "4    False\n",
      "5    False\n",
      "0    False\n",
      "1    False\n",
      "2    False\n",
      "3    False\n",
      "4    False\n",
      "5    False\n",
      "0    False\n",
      "1    False\n",
      "2    False\n",
      "3    False\n",
      "4    False\n",
      "5    False\n",
      "0    False\n",
      "1    False\n",
      "2    False\n",
      "3    False\n",
      "4    False\n",
      "5    False\n",
      "0    False\n",
      "1    False\n",
      "2    False\n",
      "3    False\n",
      "4    False\n",
      "5    False\n",
      "0    False\n",
      "1    False\n",
      "2    False\n",
      "3    False\n",
      "4    False\n",
      "5    False\n",
      "0    False\n",
      "1    False\n",
      "2    False\n",
      "3    False\n",
      "4    False\n",
      "5    False\n",
      "dtype: bool\n"
     ]
    }
   ],
   "source": [
    "duplicates = us_census.duplicated()\n",
    "print(duplicates)"
   ]
  },
  {
   "cell_type": "code",
   "execution_count": 56,
   "metadata": {},
   "outputs": [
    {
     "name": "stdout",
     "output_type": "stream",
     "text": [
      "<bound method IndexOpsMixin.value_counts of 0    False\n",
      "1    False\n",
      "2    False\n",
      "3    False\n",
      "4    False\n",
      "5    False\n",
      "0    False\n",
      "1    False\n",
      "2    False\n",
      "3    False\n",
      "4    False\n",
      "5    False\n",
      "0    False\n",
      "1    False\n",
      "2    False\n",
      "3    False\n",
      "4    False\n",
      "5    False\n",
      "0    False\n",
      "1    False\n",
      "2    False\n",
      "3    False\n",
      "4    False\n",
      "5    False\n",
      "0    False\n",
      "1    False\n",
      "2    False\n",
      "3    False\n",
      "4    False\n",
      "5    False\n",
      "0    False\n",
      "1    False\n",
      "2    False\n",
      "3    False\n",
      "4    False\n",
      "5    False\n",
      "0    False\n",
      "1    False\n",
      "2    False\n",
      "3    False\n",
      "4    False\n",
      "5    False\n",
      "0    False\n",
      "1    False\n",
      "2    False\n",
      "3    False\n",
      "4    False\n",
      "5    False\n",
      "0    False\n",
      "1    False\n",
      "2    False\n",
      "3    False\n",
      "4    False\n",
      "5    False\n",
      "0    False\n",
      "1    False\n",
      "2    False\n",
      "3    False\n",
      "4    False\n",
      "5    False\n",
      "dtype: bool>\n"
     ]
    }
   ],
   "source": [
    "us_census_fixed = us_census.drop_duplicates()\n",
    "duplicates = us_census.duplicated()\n",
    "print(duplicates.value_counts)"
   ]
  },
  {
   "cell_type": "code",
   "execution_count": 57,
   "metadata": {},
   "outputs": [
    {
     "name": "stdout",
     "output_type": "stream",
     "text": [
      "0      543273.0\n",
      "1     2455167.0\n",
      "2      419713.0\n",
      "3     3331859.0\n",
      "4    13367298.0\n",
      "5     1444150.0\n",
      "0     1444150.0\n",
      "1      318031.0\n",
      "2     4195682.0\n",
      "3     3497739.0\n",
      "4      937789.0\n",
      "5     2890732.0\n",
      "0           0.0\n",
      "1     3455936.0\n",
      "2     5038598.0\n",
      "3     2727005.0\n",
      "4     1536358.0\n",
      "5     3081445.0\n",
      "0     3081445.0\n",
      "1           0.0\n",
      "2      939759.0\n",
      "3     1390901.0\n",
      "4      670717.0\n",
      "5     4561386.0\n",
      "0     5913084.0\n",
      "1     1942789.0\n",
      "2     1990780.0\n",
      "3     6534215.0\n",
      "4     1869213.0\n",
      "5      543273.0\n",
      "0     4561386.0\n",
      "1     1051703.0\n",
      "2    10131373.0\n",
      "3     5049925.0\n",
      "4      353677.0\n",
      "5     5913084.0\n",
      "0     5123362.0\n",
      "1      696428.0\n",
      "2      806083.0\n",
      "3     6556862.0\n",
      "4     3333382.0\n",
      "5     1558931.0\n",
      "0     1558931.0\n",
      "1     1453125.0\n",
      "2     2233145.0\n",
      "3     2364097.0\n",
      "4      679019.0\n",
      "5           0.0\n",
      "0     2630239.0\n",
      "1     1841615.0\n",
      "2      478041.0\n",
      "3      340810.0\n",
      "4    10045763.0\n",
      "5     5123362.0\n",
      "0     2489527.0\n",
      "1      349215.0\n",
      "2     3342840.0\n",
      "3     1506295.0\n",
      "4    19334329.0\n",
      "5     2630239.0\n",
      "Name: Women, dtype: float64\n"
     ]
    }
   ],
   "source": [
    "us_census['Women'] = us_census['Women'].fillna(value=0)\n",
    "print(us_census['Women'])"
   ]
  },
  {
   "cell_type": "code",
   "execution_count": 58,
   "metadata": {},
   "outputs": [
    {
     "data": {
      "image/png": "[encoded data removed]",
      "text/plain": [
       "<Figure size 432x288 with 1 Axes>"
      ]
     },
     "metadata": {
      "needs_background": "light"
     },
     "output_type": "display_data"
    }
   ],
   "source": [
    "plt.scatter(us_census['Women'], us_census['Income'])\n",
    "plt.show()"
   ]
  },
  {
   "cell_type": "markdown",
   "metadata": {},
   "source": [
    "Now, your boss wants you to make a bunch of histograms out of the race data that you have. Look at the .columns again to see what the race categories are."
   ]
  },
  {
   "cell_type": "code",
   "execution_count": 59,
   "metadata": {},
   "outputs": [],
   "source": [
    "hispanic_split = us_census['Hispanic'].replace('%', '', regex=True)\n",
    "us_census['Hispanic'] = pd.to_numeric(hispanic_split)\n",
    "hispanic = us_census['Hispanic'].dropna()\n",
    "\n",
    "white_split = us_census['White'].replace('%', '', regex=True)\n",
    "us_census['White'] = pd.to_numeric(white_split)\n",
    "white = us_census['White'].dropna()\n",
    "\n",
    "black_split = us_census['Black'].replace('%', '', regex=True)\n",
    "us_census['Black'] = pd.to_numeric(black_split)\n",
    "black = us_census['Black'].dropna()\n",
    "\n",
    "native_split = us_census['Native'].replace('%', '', regex=True)\n",
    "us_census['Native'] = pd.to_numeric(native_split)\n",
    "native = us_census['Native'].dropna()\n",
    "\n",
    "asian_split = us_census['Asian'].replace('%', '', regex=True)\n",
    "us_census['Asian'] = pd.to_numeric(asian_split)\n",
    "asian = us_census['Asian'].dropna()\n",
    "\n",
    "pacific_split = us_census['Pacific'].replace('%', '', regex=True)\n",
    "us_census['Pacific'] = pd.to_numeric(pacific_split)\n",
    "pacific = us_census['Pacific'].dropna()"
   ]
  },
  {
   "cell_type": "code",
   "execution_count": 60,
   "metadata": {},
   "outputs": [
    {
     "data": {
      "image/png": "[encoded data removed]",
      "text/plain": [
       "<Figure size 576x720 with 1 Axes>"
      ]
     },
     "metadata": {
      "needs_background": "light"
     },
     "output_type": "display_data"
    }
   ],
   "source": [
    "plt.figure(figsize=(8, 10))\n",
    "plt.hist(hispanic, color='blue', histtype='step')\n",
    "plt.hist(white, histtype='step')\n",
    "plt.hist(black, histtype='step')\n",
    "plt.hist(native, histtype='step')\n",
    "plt.hist(asian, histtype='step')\n",
    "plt.hist(pacific, histtype='step')\n",
    "plt.title('Total Population by Race')\n",
    "plt.show()"
   ]
  }
 ],
 "metadata": {
  "kernelspec": {
   "display_name": "Python 3",
   "language": "python",
   "name": "python3"
  },
  "language_info": {
   "codemirror_mode": {
    "name": "ipython",
    "version": 3
   },
   "file_extension": ".py",
   "mimetype": "text/x-python",
   "name": "python",
   "nbconvert_exporter": "python",
   "pygments_lexer": "ipython3",
   "version": "3.7.6"
  }
 },
 "nbformat": 4,
 "nbformat_minor": 4
}
